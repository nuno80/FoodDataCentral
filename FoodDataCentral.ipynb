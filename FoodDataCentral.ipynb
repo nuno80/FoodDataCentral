{
  "cells": [
    {
      "cell_type": "markdown",
      "metadata": {
        "id": "view-in-github",
        "colab_type": "text"
      },
      "source": [
        "<a href=\"https://colab.research.google.com/github/nuno80/FoodDataCentral/blob/main/FoodDataCentral.ipynb\" target=\"_parent\"><img src=\"https://colab.research.google.com/assets/colab-badge.svg\" alt=\"Open In Colab\"/></a>"
      ]
    },
    {
      "cell_type": "code",
      "source": [
        "!pip install requests flask\n"
      ],
      "metadata": {
        "id": "IPDa48nr5DN7",
        "outputId": "6a333ef7-8262-440b-cdd7-374cecfad09c",
        "colab": {
          "base_uri": "https://localhost:8080/"
        }
      },
      "execution_count": 1,
      "outputs": [
        {
          "output_type": "stream",
          "name": "stdout",
          "text": [
            "Requirement already satisfied: requests in /usr/local/lib/python3.10/dist-packages (2.31.0)\n",
            "Requirement already satisfied: flask in /usr/local/lib/python3.10/dist-packages (2.2.5)\n",
            "Requirement already satisfied: charset-normalizer<4,>=2 in /usr/local/lib/python3.10/dist-packages (from requests) (3.3.2)\n",
            "Requirement already satisfied: idna<4,>=2.5 in /usr/local/lib/python3.10/dist-packages (from requests) (3.7)\n",
            "Requirement already satisfied: urllib3<3,>=1.21.1 in /usr/local/lib/python3.10/dist-packages (from requests) (2.0.7)\n",
            "Requirement already satisfied: certifi>=2017.4.17 in /usr/local/lib/python3.10/dist-packages (from requests) (2024.6.2)\n",
            "Requirement already satisfied: Werkzeug>=2.2.2 in /usr/local/lib/python3.10/dist-packages (from flask) (3.0.3)\n",
            "Requirement already satisfied: Jinja2>=3.0 in /usr/local/lib/python3.10/dist-packages (from flask) (3.1.4)\n",
            "Requirement already satisfied: itsdangerous>=2.0 in /usr/local/lib/python3.10/dist-packages (from flask) (2.2.0)\n",
            "Requirement already satisfied: click>=8.0 in /usr/local/lib/python3.10/dist-packages (from flask) (8.1.7)\n",
            "Requirement already satisfied: MarkupSafe>=2.0 in /usr/local/lib/python3.10/dist-packages (from Jinja2>=3.0->flask) (2.1.5)\n"
          ]
        }
      ]
    },
    {
      "cell_type": "code",
      "source": [
        "import requests\n",
        "import random\n",
        "\n",
        "# Imposta la tua chiave API qui\n",
        "API_KEY = 'lRRUhBqakDfuwdjbdfEEck02bklmh6ml32q5ANxp'  # Sostituisci con la tua chiave API\n",
        "\n",
        "# Funzione per cercare cibi\n",
        "def search_food(query):\n",
        "    url = f\"https://api.nal.usda.gov/fdc/v1/foods/search?api_key={API_KEY}&query={query}&dataType=Foundation,Survey%20(FNDDS),SR%20Legacy\"\n",
        "    response = requests.get(url)\n",
        "    if response.status_code == 200:\n",
        "        return response.json()\n",
        "    else:\n",
        "        return None\n",
        "\n",
        "# Funzione per ottenere i dettagli di più cibi\n",
        "def get_food_details_bulk(fdc_ids):\n",
        "    url = f\"https://api.nal.usda.gov/fdc/v1/foods?api_key={API_KEY}\"\n",
        "    headers = {\"Content-Type\": \"application/json\"}\n",
        "    data = {\"fdcIds\": fdc_ids}\n",
        "    response = requests.post(url, headers=headers, json=data)\n",
        "    if response.status_code == 200:\n",
        "        return response.json()\n",
        "    else:\n",
        "        return None\n",
        "\n",
        "# Funzione per creare un piano pasti\n",
        "def create_meal_plan(food_list, num_meals=3):\n",
        "    meal_plan = []\n",
        "    for _ in range(num_meals):\n",
        "        meal = random.sample(food_list, 3)  # Seleziona 3 cibi a caso per ogni pasto\n",
        "        meal_plan.append(meal)\n",
        "    return meal_plan\n",
        "\n",
        "# Funzione per estrarre nutrienti specifici\n",
        "def extract_nutrients(food):\n",
        "    nutrients = {}\n",
        "    for nutrient in food.get('foodNutrients', []):\n",
        "        nutrient_name = nutrient.get('nutrient', {}).get('name', None)\n",
        "        if nutrient_name in ['Protein', 'Cholesterol', 'Fatty acids, total saturated']:\n",
        "            nutrients[nutrient_name] = nutrient.get('amount', 'N/A')\n",
        "\n",
        "    return {\n",
        "        'description': food.get('description', 'N/A'),\n",
        "        'proteins': nutrients.get('Protein', 'N/A'),\n",
        "        'cholesterol': nutrients.get('Cholesterol', 'N/A'),\n",
        "        'saturated_fats': nutrients.get('Fatty acids, total saturated', 'N/A')\n",
        "    }\n"
      ],
      "metadata": {
        "id": "KV_KshkP9pM-"
      },
      "execution_count": 12,
      "outputs": []
    },
    {
      "cell_type": "code",
      "source": [
        "# Esegui una ricerca per un alimento specifico\n",
        "query = 'Pizza'\n",
        "food_data = search_food(query)\n",
        "\n",
        "if food_data:\n",
        "    food_list = food_data.get('foods', [])\n",
        "    fdc_ids = [food.get('fdcId') for food in food_list]\n",
        "\n",
        "    # Ottieni i dettagli nutrizionali per ogni cibo in blocco\n",
        "    detailed_food_data = get_food_details_bulk(fdc_ids)\n",
        "\n",
        "    detailed_food_list = []\n",
        "    for food in detailed_food_data:\n",
        "        detailed_food_list.append(extract_nutrients(food))\n",
        "\n",
        "    # Stampa i primi 5 risultati della ricerca con dettagli nutrizionali\n",
        "    print(f\"Trovati {len(detailed_food_list)} cibi per '{query}':\")\n",
        "    for food in detailed_food_list[:5]:\n",
        "        print(f\"- {food['description']}: Proteine={food['proteins']}g, Colesterolo={food['cholesterol']}mg, Grassi Saturi={food['saturated_fats']}g\")\n",
        "\n",
        "    # Crea un piano pasti\n",
        "    meal_plan = create_meal_plan(detailed_food_list)\n",
        "\n",
        "    # Stampa il piano pasti generato\n",
        "    print(\"\\nPiano pasti generato:\")\n",
        "    for idx, meal in enumerate(meal_plan, start=1):\n",
        "        print(f\"\\nPasto {idx}:\")\n",
        "        for food in meal:\n",
        "            print(f\"- {food['description']}: Proteine={food['proteins']}g, Colesterolo={food['cholesterol']}mg, Grassi Saturi={food['saturated_fats']}g\")\n",
        "else:\n",
        "    print(\"Errore nella ricerca del cibo.\")\n"
      ],
      "metadata": {
        "id": "VfIk4OJU9tCF",
        "outputId": "6e2ad42a-78d3-4836-8fe5-545838fd0054",
        "colab": {
          "base_uri": "https://localhost:8080/"
        }
      },
      "execution_count": 14,
      "outputs": [
        {
          "output_type": "stream",
          "name": "stdout",
          "text": [
            "Trovati 50 cibi per 'Pizza':\n",
            "- Dessert pizza: Proteine=1.86g, Colesterolo=3.0mg, Grassi Saturi=1.92g\n",
            "- Mexican pizza: Proteine=15.5g, Colesterolo=47.0mg, Grassi Saturi=4.54g\n",
            "- Pizza rolls: Proteine=9.19g, Colesterolo=6.0mg, Grassi Saturi=2.62g\n",
            "- PIZZA HUT 12\" Cheese Pizza, Pan Crust: Proteine=11.73g, Colesterolo=21.0mg, Grassi Saturi=5.184g\n",
            "- PIZZA HUT 12\" Pepperoni Pizza, Pan Crust: Proteine=11.97g, Colesterolo=25.0mg, Grassi Saturi=5.271g\n",
            "\n",
            "Piano pasti generato:\n",
            "\n",
            "Pasto 1:\n",
            "- PIZZA HUT 14\" Pepperoni Pizza, Hand-Tossed Crust: Proteine=12.23g, Colesterolo=26.0mg, Grassi Saturi=5.404g\n",
            "- Topping from meat pizza: Proteine=19.2g, Colesterolo=68.0mg, Grassi Saturi=10.6g\n",
            "- Fast Food, Pizza Chain, 14\" pizza, pepperoni topping, regular crust: Proteine=11.74g, Colesterolo=25.0mg, Grassi Saturi=5.092g\n",
            "\n",
            "Pasto 2:\n",
            "- School Lunch, pizza, TONY'S Breakfast Pizza Sausage, frozen: Proteine=10.39g, Colesterolo=20.0mg, Grassi Saturi=3.47g\n",
            "- Topping from meat and vegetable pizza: Proteine=17.6g, Colesterolo=61.0mg, Grassi Saturi=9.55g\n",
            "- PIZZA HUT 14\" Cheese Pizza, Stuffed Crust: Proteine=12.23g, Colesterolo=30.0mg, Grassi Saturi=5.825g\n",
            "\n",
            "Pasto 3:\n",
            "- PIZZA HUT 14\" Cheese Pizza, Hand-Tossed Crust: Proteine=11.98g, Colesterolo=18.0mg, Grassi Saturi=4.819g\n",
            "- Fast Food, Pizza Chain, 14\" pizza, cheese topping, regular crust: Proteine=11.39g, Colesterolo=17.0mg, Grassi Saturi=4.465g\n",
            "- PIZZA HUT 14\" Pepperoni Pizza, THIN 'N CRISPY Crust: Proteine=14.13g, Colesterolo=37.0mg, Grassi Saturi=6.674g\n"
          ]
        }
      ]
    }
  ],
  "metadata": {
    "colab": {
      "name": "Un benvenuto a Colaboratory",
      "toc_visible": true,
      "provenance": [],
      "include_colab_link": true
    },
    "kernelspec": {
      "display_name": "Python 3",
      "name": "python3"
    }
  },
  "nbformat": 4,
  "nbformat_minor": 0
}